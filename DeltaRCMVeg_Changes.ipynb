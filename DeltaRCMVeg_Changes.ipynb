{
 "cells": [
  {
   "cell_type": "markdown",
   "id": "4c5f98b9-d2b4-441e-84bf-6da9ac391e24",
   "metadata": {},
   "source": [
    "# Exploring the interaction of salt marsh and mangrove vegetation on river delta evolution\n",
    "This notebook will explore the interaction of different types of vegetation on the evolution of a river delta. As the climate continues to warm, mangrove forests may start populating areas that were once dominated by salt marsh vegetation. This is a potentially likely scenario for mangroves to migrate north along the eastern Florida coast (Figure 1).\n",
    "\n",
    "![](https://www.researchgate.net/profile/Kara-Radabaugh-2/publication/318381199/figure/fig1/AS:631675956523010@1527614692045/Extent-of-salt-marsh-and-mangrove-habitat-within-Florida.png)\n",
    "\n",
    "Figure 1: Figure from Radabaugh et al. (2017) showing the distribution of salt marshes and mangroves across Florida.  \n",
    "\n",
    "This transition from salt marsh vegetation to mangrove vegetation may have implications for the area above sea level. It may also have important implications for the global carbon budget, which can potentially be explored by coupling a vegetation primary production model. "
   ]
  },
  {
   "cell_type": "markdown",
   "id": "903ed399-3014-479f-a8c8-7cd4d0c8e919",
   "metadata": {},
   "source": [
    "# Delta RCM Model with Vegetation\n",
    "First, we will import the DeltaRCM_veg_2.py model."
   ]
  },
  {
   "cell_type": "code",
   "execution_count": 6,
   "id": "25b63a6b-67ac-4679-b783-09743a287e79",
   "metadata": {},
   "outputs": [],
   "source": [
    "#import DeltaRCM_veg_2\n",
    "import DeltaRCM_veg_2 as dlt"
   ]
  },
  {
   "cell_type": "code",
   "execution_count": 7,
   "id": "077f7a55-a3e5-480e-b605-16b8e7d69acd",
   "metadata": {},
   "outputs": [],
   "source": [
    "#create an instance of the class\n",
    "deltarcm = dlt.DeltaRCM()"
   ]
  },
  {
   "cell_type": "code",
   "execution_count": 8,
   "id": "c13d1b12-ef9f-4c34-a0ae-3a2f3a30d729",
   "metadata": {},
   "outputs": [],
   "source": [
    "###calling the setup function\n",
    "deltarcm.setup()"
   ]
  },
  {
   "cell_type": "markdown",
   "id": "d78dc446-e2fa-494a-a2d9-b02de67ac732",
   "metadata": {},
   "source": [
    "# Explore the influence of salt marshes on delta evolution"
   ]
  },
  {
   "cell_type": "code",
   "execution_count": 9,
   "id": "774567b4-ea6d-492a-810d-0f3b599827fd",
   "metadata": {},
   "outputs": [
    {
     "name": "stdout",
     "output_type": "stream",
     "text": [
      "t = 1\n",
      "np = 2000\n",
      "np_sand = 500\n",
      "np_mud = 1500\n",
      "t = 2\n",
      "np = 2000\n",
      "np_sand = 500\n",
      "np_mud = 1500\n",
      "t = 3\n",
      "np = 2000\n",
      "np_sand = 500\n",
      "np_mud = 1500\n",
      "t = 4\n",
      "np = 2000\n",
      "np_sand = 500\n"
     ]
    },
    {
     "ename": "KeyboardInterrupt",
     "evalue": "",
     "output_type": "error",
     "traceback": [
      "\u001b[0;31m---------------------------------------------------------------------------\u001b[0m",
      "\u001b[0;31mKeyboardInterrupt\u001b[0m                         Traceback (most recent call last)",
      "Input \u001b[0;32mIn [9]\u001b[0m, in \u001b[0;36m<cell line: 4>\u001b[0;34m()\u001b[0m\n\u001b[1;32m      1\u001b[0m \u001b[38;5;66;03m###changing parameters\u001b[39;00m\n\u001b[1;32m      2\u001b[0m deltarcm\u001b[38;5;241m.\u001b[39md_stem\u001b[38;5;241m=\u001b[39m\u001b[38;5;241m10\u001b[39m \u001b[38;5;66;03m#stem diameter\u001b[39;00m\n\u001b[0;32m----> 4\u001b[0m \u001b[43mdeltarcm\u001b[49m\u001b[38;5;241;43m.\u001b[39;49m\u001b[43mrun\u001b[49m\u001b[43m(\u001b[49m\u001b[43m)\u001b[49m\n",
      "File \u001b[0;32m~/Coastal_Vegetation/DeltaRCM_veg_2.py:709\u001b[0m, in \u001b[0;36mDeltaRCM.run\u001b[0;34m(self)\u001b[0m\n\u001b[1;32m    707\u001b[0m \u001b[38;5;28;01mfor\u001b[39;00m timestep \u001b[38;5;129;01min\u001b[39;00m \u001b[38;5;28mrange\u001b[39m(\u001b[38;5;241m1\u001b[39m,totaltimestep\u001b[38;5;241m+\u001b[39m\u001b[38;5;241m1\u001b[39m):\n\u001b[1;32m    708\u001b[0m     \u001b[38;5;28mprint\u001b[39m(\u001b[38;5;124m'\u001b[39m\u001b[38;5;124mt = \u001b[39m\u001b[38;5;132;01m%d\u001b[39;00m\u001b[38;5;124m'\u001b[39m \u001b[38;5;241m%\u001b[39mtimestep)\n\u001b[0;32m--> 709\u001b[0m     \u001b[38;5;28;43mself\u001b[39;49m\u001b[38;5;241;43m.\u001b[39;49m\u001b[43mrun_timestep\u001b[49m\u001b[43m(\u001b[49m\u001b[43mtimestep\u001b[49m\u001b[43m)\u001b[49m\n\u001b[1;32m    710\u001b[0m     \u001b[38;5;28;01mif\u001b[39;00m timestep\u001b[38;5;241m%\u001b[39mplotinterval \u001b[38;5;241m==\u001b[39m \u001b[38;5;241m0\u001b[39m: \n\u001b[1;32m    711\u001b[0m         \u001b[38;5;28mself\u001b[39m\u001b[38;5;241m.\u001b[39msave_plots(timestep)\n",
      "File \u001b[0;32m~/Coastal_Vegetation/DeltaRCM_veg_2.py:695\u001b[0m, in \u001b[0;36mmodel_steps.run_timestep\u001b[0;34m(self, timestep)\u001b[0m\n\u001b[1;32m    693\u001b[0m \u001b[38;5;28mself\u001b[39m\u001b[38;5;241m.\u001b[39mtimestep_count \u001b[38;5;241m+\u001b[39m\u001b[38;5;241m=\u001b[39m \u001b[38;5;241m1\u001b[39m \n\u001b[1;32m    694\u001b[0m \u001b[38;5;28mself\u001b[39m\u001b[38;5;241m.\u001b[39mwater_route(timestep)\n\u001b[0;32m--> 695\u001b[0m \u001b[38;5;28;43mself\u001b[39;49m\u001b[38;5;241;43m.\u001b[39;49m\u001b[43msed_route\u001b[49m\u001b[43m(\u001b[49m\u001b[43m)\u001b[49m\n\u001b[1;32m    696\u001b[0m \u001b[38;5;28;01mif\u001b[39;00m veg \u001b[38;5;241m==\u001b[39m \u001b[38;5;241m1\u001b[39m:\n\u001b[1;32m    697\u001b[0m     \u001b[38;5;28mself\u001b[39m\u001b[38;5;241m.\u001b[39mveg_mort()\n",
      "File \u001b[0;32m~/Coastal_Vegetation/DeltaRCM_veg_2.py:623\u001b[0m, in \u001b[0;36mmodel_steps.sed_route\u001b[0;34m(self)\u001b[0m\n\u001b[1;32m    621\u001b[0m     \u001b[38;5;28mself\u001b[39m\u001b[38;5;241m.\u001b[39meta_change_net \u001b[38;5;241m=\u001b[39m \u001b[38;5;241m0\u001b[39m\u001b[38;5;241m*\u001b[39m\u001b[38;5;28mself\u001b[39m\u001b[38;5;241m.\u001b[39meta_change_net\n\u001b[1;32m    622\u001b[0m \u001b[38;5;28mself\u001b[39m\u001b[38;5;241m.\u001b[39msand_route()\n\u001b[0;32m--> 623\u001b[0m \u001b[38;5;28;43mself\u001b[39;49m\u001b[38;5;241;43m.\u001b[39;49m\u001b[43mmud_route\u001b[49m\u001b[43m(\u001b[49m\u001b[43m)\u001b[49m\n",
      "File \u001b[0;32m~/Coastal_Vegetation/DeltaRCM_veg_2.py:612\u001b[0m, in \u001b[0;36mmodel_steps.mud_route\u001b[0;34m(self)\u001b[0m\n\u001b[1;32m    610\u001b[0m     px \u001b[38;5;241m=\u001b[39m \u001b[38;5;28mself\u001b[39m\u001b[38;5;241m.\u001b[39mpx_start\n\u001b[1;32m    611\u001b[0m     py \u001b[38;5;241m=\u001b[39m \u001b[38;5;28mself\u001b[39m\u001b[38;5;241m.\u001b[39mchoose_py_start()\n\u001b[0;32m--> 612\u001b[0m     \u001b[38;5;28;43mself\u001b[39;49m\u001b[38;5;241;43m.\u001b[39;49m\u001b[43msed_parcel\u001b[49m\u001b[43m(\u001b[49m\u001b[43mtheta_sed\u001b[49m\u001b[43m,\u001b[49m\u001b[38;5;241;43m2\u001b[39;49m\u001b[43m,\u001b[49m\u001b[43mpx\u001b[49m\u001b[43m,\u001b[49m\u001b[43mpy\u001b[49m\u001b[43m)\u001b[49m\n\u001b[1;32m    613\u001b[0m \u001b[38;5;28mprint\u001b[39m(\u001b[38;5;124m'\u001b[39m\u001b[38;5;124mnp_mud = \u001b[39m\u001b[38;5;132;01m%d\u001b[39;00m\u001b[38;5;124m'\u001b[39m \u001b[38;5;241m%\u001b[39mnp_sed)\n",
      "File \u001b[0;32m~/Coastal_Vegetation/DeltaRCM_veg_2.py:562\u001b[0m, in \u001b[0;36mmodel_steps.sed_parcel\u001b[0;34m(self, theta_sed, sed, px, py)\u001b[0m\n\u001b[1;32m    560\u001b[0m         \u001b[38;5;28;01mif\u001b[39;00m \u001b[38;5;28mself\u001b[39m\u001b[38;5;241m.\u001b[39mwall_flag[pxn,pyn] \u001b[38;5;241m==\u001b[39m \u001b[38;5;241m1\u001b[39m:\n\u001b[1;32m    561\u001b[0m             weight[k] \u001b[38;5;241m=\u001b[39m \u001b[38;5;241m0\u001b[39m\n\u001b[0;32m--> 562\u001b[0m istep,jstep \u001b[38;5;241m=\u001b[39m \u001b[38;5;28;43mself\u001b[39;49m\u001b[38;5;241;43m.\u001b[39;49m\u001b[43mchoose_prob\u001b[49m\u001b[43m(\u001b[49m\u001b[43mweight\u001b[49m\u001b[43m,\u001b[49m\u001b[43mnk\u001b[49m\u001b[43m,\u001b[49m\u001b[43msed\u001b[49m\u001b[43m,\u001b[49m\u001b[43mpx\u001b[49m\u001b[43m,\u001b[49m\u001b[43mpy\u001b[49m\u001b[43m)\u001b[49m \u001b[38;5;66;03m#choose a cell to move into #istep,jstep\u001b[39;00m\n\u001b[1;32m    563\u001b[0m dist \u001b[38;5;241m=\u001b[39m m\u001b[38;5;241m.\u001b[39msqrt(istep\u001b[38;5;241m*\u001b[39m\u001b[38;5;241m*\u001b[39m\u001b[38;5;241m2\u001b[39m\u001b[38;5;241m+\u001b[39mjstep\u001b[38;5;241m*\u001b[39m\u001b[38;5;241m*\u001b[39m\u001b[38;5;241m2\u001b[39m)\n\u001b[1;32m    564\u001b[0m \u001b[38;5;66;03m#deposition and erosion\u001b[39;00m\n",
      "File \u001b[0;32m~/Coastal_Vegetation/DeltaRCM_veg_2.py:240\u001b[0m, in \u001b[0;36mmodel_steps.choose_prob\u001b[0;34m(self, weight, nk, sed, px, py)\u001b[0m\n\u001b[1;32m    238\u001b[0m \u001b[38;5;28;01melse\u001b[39;00m:\n\u001b[1;32m    239\u001b[0m     step_rand \u001b[38;5;241m=\u001b[39m np\u001b[38;5;241m.\u001b[39mrandom\u001b[38;5;241m.\u001b[39mrandom() \u001b[38;5;66;03m#water routing\u001b[39;00m\n\u001b[0;32m--> 240\u001b[0m dxn \u001b[38;5;241m=\u001b[39m [\u001b[38;5;28mself\u001b[39m\u001b[38;5;241m.\u001b[39mget_dxn(px,py,k) \u001b[38;5;28;01mfor\u001b[39;00m k \u001b[38;5;129;01min\u001b[39;00m \u001b[38;5;28mrange\u001b[39m(nk)]\n\u001b[1;32m    241\u001b[0m ntry \u001b[38;5;241m=\u001b[39m \u001b[38;5;241m0\u001b[39m \n\u001b[1;32m    242\u001b[0m \u001b[38;5;28;01mwhile\u001b[39;00m step_rand \u001b[38;5;241m>\u001b[39m\u001b[38;5;241m=\u001b[39m weight_val[nk\u001b[38;5;241m-\u001b[39m\u001b[38;5;241m1\u001b[39m] \u001b[38;5;129;01mand\u001b[39;00m ntry \u001b[38;5;241m<\u001b[39m \u001b[38;5;241m5\u001b[39m:\n",
      "File \u001b[0;32m~/Coastal_Vegetation/DeltaRCM_veg_2.py:240\u001b[0m, in \u001b[0;36m<listcomp>\u001b[0;34m(.0)\u001b[0m\n\u001b[1;32m    238\u001b[0m \u001b[38;5;28;01melse\u001b[39;00m:\n\u001b[1;32m    239\u001b[0m     step_rand \u001b[38;5;241m=\u001b[39m np\u001b[38;5;241m.\u001b[39mrandom\u001b[38;5;241m.\u001b[39mrandom() \u001b[38;5;66;03m#water routing\u001b[39;00m\n\u001b[0;32m--> 240\u001b[0m dxn \u001b[38;5;241m=\u001b[39m [\u001b[38;5;28;43mself\u001b[39;49m\u001b[38;5;241;43m.\u001b[39;49m\u001b[43mget_dxn\u001b[49m(px,py,k) \u001b[38;5;28;01mfor\u001b[39;00m k \u001b[38;5;129;01min\u001b[39;00m \u001b[38;5;28mrange\u001b[39m(nk)]\n\u001b[1;32m    241\u001b[0m ntry \u001b[38;5;241m=\u001b[39m \u001b[38;5;241m0\u001b[39m \n\u001b[1;32m    242\u001b[0m \u001b[38;5;28;01mwhile\u001b[39;00m step_rand \u001b[38;5;241m>\u001b[39m\u001b[38;5;241m=\u001b[39m weight_val[nk\u001b[38;5;241m-\u001b[39m\u001b[38;5;241m1\u001b[39m] \u001b[38;5;129;01mand\u001b[39;00m ntry \u001b[38;5;241m<\u001b[39m \u001b[38;5;241m5\u001b[39m:\n",
      "\u001b[0;31mKeyboardInterrupt\u001b[0m: "
     ]
    }
   ],
   "source": [
    "###changing parameters\n",
    "# we don't need to change specific vegetation parameters but we can build a grid here\n",
    "deltarcm.d_stem=10 #stem diameter\n",
    "\n",
    "deltarcm.run()\n"
   ]
  },
  {
   "cell_type": "markdown",
   "id": "53a579c8-db54-4a09-9170-f48239762975",
   "metadata": {},
   "source": [
    "# Explore the influence of mangroves on delta evoltion\n",
    "Here we will change the vegetation properties to reflect that of mangroves"
   ]
  },
  {
   "cell_type": "code",
   "execution_count": 11,
   "id": "4f362604-e9c7-447c-9a95-878cf3a9cda4",
   "metadata": {},
   "outputs": [],
   "source": [
    "# Change parameters"
   ]
  },
  {
   "cell_type": "markdown",
   "id": "94238ddc-918b-42a6-996b-dcbfe067b477",
   "metadata": {},
   "source": [
    "# Compare the the delta with saltmarshes to the delta with mangroves"
   ]
  },
  {
   "cell_type": "code",
   "execution_count": null,
   "id": "27800ec2-cb8a-4709-bc87-69158711654b",
   "metadata": {},
   "outputs": [],
   "source": [
    "# DEM of Difference?\n"
   ]
  },
  {
   "cell_type": "markdown",
   "id": "4d30e571-2941-49a9-bdb4-f85f14f5bdef",
   "metadata": {},
   "source": [
    "# What other parameters can we change? \n",
    "What variables would we change to look at flood frequency?"
   ]
  },
  {
   "cell_type": "code",
   "execution_count": null,
   "id": "4d3734c4-c172-4420-956e-60528826e881",
   "metadata": {},
   "outputs": [],
   "source": []
  }
 ],
 "metadata": {
  "kernelspec": {
   "display_name": "Ivy",
   "language": "python",
   "name": "ivy"
  },
  "language_info": {
   "codemirror_mode": {
    "name": "ipython",
    "version": 3
   },
   "file_extension": ".py",
   "mimetype": "text/x-python",
   "name": "python",
   "nbconvert_exporter": "python",
   "pygments_lexer": "ipython3",
   "version": "3.9.12"
  }
 },
 "nbformat": 4,
 "nbformat_minor": 5
}
