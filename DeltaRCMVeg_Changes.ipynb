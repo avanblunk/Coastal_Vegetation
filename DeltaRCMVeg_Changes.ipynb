{
 "cells": [
  {
   "cell_type": "code",
   "execution_count": 28,
   "id": "83c4e8e6-21f6-4d3b-89eb-79452c33e348",
   "metadata": {},
   "outputs": [],
   "source": [
    "#import DeltaRCM_veg_2\n",
    "import DeltaRCM_veg_2 as dlt"
   ]
  },
  {
   "cell_type": "code",
   "execution_count": 29,
   "id": "077f7a55-a3e5-480e-b605-16b8e7d69acd",
   "metadata": {},
   "outputs": [],
   "source": [
    "#create an instance of the class\n",
    "deltarcm = dlt.DeltaRCM()"
   ]
  },
  {
   "cell_type": "code",
   "execution_count": 30,
   "id": "c13d1b12-ef9f-4c34-a0ae-3a2f3a30d729",
   "metadata": {},
   "outputs": [],
   "source": [
    "###calling the setup function\n",
    "deltarcm.setup()"
   ]
  },
  {
   "cell_type": "code",
   "execution_count": null,
   "id": "774567b4-ea6d-492a-810d-0f3b599827fd",
   "metadata": {},
   "outputs": [
    {
     "name": "stdout",
     "output_type": "stream",
     "text": [
      "t = 1\n",
      "np = 2000\n",
      "np_sand = 500\n",
      "np_mud = 1500\n",
      "t = 2\n",
      "np = 2000\n",
      "np_sand = 500\n",
      "np_mud = 1500\n",
      "t = 3\n",
      "np = 2000\n",
      "np_sand = 500\n",
      "np_mud = 1500\n",
      "t = 4\n",
      "np = 2000\n",
      "np_sand = 500\n",
      "np_mud = 1500\n",
      "t = 5\n",
      "np = 2000\n",
      "np_sand = 500\n",
      "np_mud = 1500\n",
      "t = 6\n"
     ]
    }
   ],
   "source": [
    "###changing parameters\n",
    "deltarcm.d_stem=10 #stem diameter\n",
    "deltarcm.run()\n"
   ]
  },
  {
   "cell_type": "code",
   "execution_count": null,
   "id": "41b96de0-6c66-42c6-b134-eb57b091b630",
   "metadata": {},
   "outputs": [],
   "source": []
  }
 ],
 "metadata": {
  "kernelspec": {
   "display_name": "Ivy",
   "language": "python",
   "name": "ivy"
  },
  "language_info": {
   "codemirror_mode": {
    "name": "ipython",
    "version": 3
   },
   "file_extension": ".py",
   "mimetype": "text/x-python",
   "name": "python",
   "nbconvert_exporter": "python",
   "pygments_lexer": "ipython3",
   "version": "3.9.12"
  }
 },
 "nbformat": 4,
 "nbformat_minor": 5
}
